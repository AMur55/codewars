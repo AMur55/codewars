{
 "cells": [
  {
   "cell_type": "code",
   "execution_count": 52,
   "id": "af9d7720",
   "metadata": {},
   "outputs": [],
   "source": [
    "# Задание Strip Comments\n",
    "\n",
    "# Complete the solution so that it strips all text that follows any of a set of comment markers passed in.\n",
    "# Any whitespace at the end of the line should also be stripped out."
   ]
  },
  {
   "cell_type": "code",
   "execution_count": 47,
   "id": "da34a7e0",
   "metadata": {},
   "outputs": [],
   "source": [
    "# Для проверки\n",
    "strng = 'apples, pears # and bananas\\ngrapes\\nbananas !apples'\n",
    "markers = ['#', '!']"
   ]
  },
  {
   "cell_type": "code",
   "execution_count": 55,
   "id": "492c23de",
   "metadata": {},
   "outputs": [],
   "source": [
    "def solution(strng,markers):\n",
    "    \n",
    "    lines = strng.split('\\n') # Разбиваем на линии\n",
    "    result = ''\n",
    "    \n",
    "    for line in lines:\n",
    "        temp = ''\n",
    "        \n",
    "        for x in line:\n",
    "            if x not in markers:\n",
    "                temp += x # Пока нет совпадений строим строку\n",
    "            else:\n",
    "                break # При совпадении заканчиваем данную строку\n",
    "                \n",
    "        result = result + temp.rstrip() + \"\\n\" # Добавляем полученную строку без пробельных символов на конце и знак переноса\n",
    "        \n",
    "    return result[:-1] # Удаляем последний перенос и выводим результат\n"
   ]
  },
  {
   "cell_type": "code",
   "execution_count": 56,
   "id": "b86e69b2",
   "metadata": {},
   "outputs": [
    {
     "data": {
      "text/plain": [
       "'apples, pears\\ngrapes\\nbananas'"
      ]
     },
     "execution_count": 56,
     "metadata": {},
     "output_type": "execute_result"
    }
   ],
   "source": [
    "solution(strng,markers)"
   ]
  },
  {
   "cell_type": "code",
   "execution_count": null,
   "id": "b076f572",
   "metadata": {},
   "outputs": [],
   "source": []
  }
 ],
 "metadata": {
  "kernelspec": {
   "display_name": "Python 3 (ipykernel)",
   "language": "python",
   "name": "python3"
  },
  "language_info": {
   "codemirror_mode": {
    "name": "ipython",
    "version": 3
   },
   "file_extension": ".py",
   "mimetype": "text/x-python",
   "name": "python",
   "nbconvert_exporter": "python",
   "pygments_lexer": "ipython3",
   "version": "3.9.12"
  }
 },
 "nbformat": 4,
 "nbformat_minor": 5
}
