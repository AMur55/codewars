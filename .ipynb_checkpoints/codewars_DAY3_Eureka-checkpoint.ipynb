{
 "cells": [
  {
   "cell_type": "code",
   "execution_count": 1,
   "id": "a2dd55db",
   "metadata": {},
   "outputs": [],
   "source": [
    "# Take a Number And Sum Its Digits Raised To The Consecutive Powers And ....¡Eureka!!\n",
    "# In effect: 89 = 8^1 + 9^2\n"
   ]
  },
  {
   "cell_type": "code",
   "execution_count": 2,
   "id": "c204421d",
   "metadata": {},
   "outputs": [],
   "source": [
    "def sum_dig_pow(a, b):\n",
    "    \n",
    "    result = []\n",
    "    for i in range(a, b+1):\n",
    "        count = 1\n",
    "        sum_i = 0    \n",
    "        \n",
    "        while count <= len(str(i)):\n",
    "            sum_i += int(str(i)[count-1]) ** count\n",
    "            count += 1\n",
    "        \n",
    "        if i == sum_i:\n",
    "            result.append(i)         \n",
    "    return result"
   ]
  },
  {
   "cell_type": "code",
   "execution_count": 3,
   "id": "df3c66d7",
   "metadata": {},
   "outputs": [
    {
     "data": {
      "text/plain": [
       "[1, 2, 3, 4, 5, 6, 7, 8, 9]"
      ]
     },
     "execution_count": 3,
     "metadata": {},
     "output_type": "execute_result"
    }
   ],
   "source": [
    "sum_dig_pow(1, 10)"
   ]
  }
 ],
 "metadata": {
  "kernelspec": {
   "display_name": "Python 3 (ipykernel)",
   "language": "python",
   "name": "python3"
  },
  "language_info": {
   "codemirror_mode": {
    "name": "ipython",
    "version": 3
   },
   "file_extension": ".py",
   "mimetype": "text/x-python",
   "name": "python",
   "nbconvert_exporter": "python",
   "pygments_lexer": "ipython3",
   "version": "3.9.12"
  }
 },
 "nbformat": 4,
 "nbformat_minor": 5
}
