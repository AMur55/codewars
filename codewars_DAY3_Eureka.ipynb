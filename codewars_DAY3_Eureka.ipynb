{
 "cells": [
  {
   "cell_type": "code",
   "execution_count": 1,
   "id": "dacb47cd",
   "metadata": {},
   "outputs": [],
   "source": [
    "# Take a Number And Sum Its Digits Raised To The Consecutive Powers And ....¡Eureka!! (6)\n",
    "# In effect: 89 = 8^1 + 9^2\n"
   ]
  },
  {
   "cell_type": "code",
   "execution_count": 2,
   "id": "b90325d2",
   "metadata": {},
   "outputs": [],
   "source": [
    "def sum_dig_pow(a, b):\n",
    "    \n",
    "    result = []\n",
    "    for i in range(a, b+1):\n",
    "        count = 1\n",
    "        sum_i = 0    \n",
    "        \n",
    "        while count <= len(str(i)):\n",
    "            sum_i += int(str(i)[count-1]) ** count\n",
    "            count += 1\n",
    "        \n",
    "        if i == sum_i:\n",
    "            result.append(i)         \n",
    "    return result"
   ]
  },
  {
   "cell_type": "code",
   "execution_count": 4,
   "id": "ffd0898b",
   "metadata": {},
   "outputs": [
    {
     "data": {
      "text/plain": [
       "[1, 2, 3, 4, 5, 6, 7, 8, 9]"
      ]
     },
     "execution_count": 4,
     "metadata": {},
     "output_type": "execute_result"
    }
   ],
   "source": [
    "sum_dig_pow(1, 10)"
   ]
  },
  {
   "cell_type": "code",
   "execution_count": null,
   "id": "0ec09a54",
   "metadata": {},
   "outputs": [],
   "source": []
  },
  {
   "cell_type": "code",
   "execution_count": 5,
   "id": "fc4e5f02",
   "metadata": {},
   "outputs": [],
   "source": [
    "# Calculate Pyramid Height (6)\n",
    "def pyramid_height(n):\n",
    "    count = 0\n",
    "    sum = 0\n",
    "    while sum <= n:\n",
    "        count += 1\n",
    "        sum += count**2\n",
    "    return count - 1"
   ]
  },
  {
   "cell_type": "code",
   "execution_count": 6,
   "id": "2b54d960",
   "metadata": {},
   "outputs": [
    {
     "data": {
      "text/plain": [
       "42"
      ]
     },
     "execution_count": 6,
     "metadata": {},
     "output_type": "execute_result"
    }
   ],
   "source": [
    "pyramid_height(25698)\n"
   ]
  },
  {
   "cell_type": "code",
   "execution_count": null,
   "id": "12d115bf",
   "metadata": {},
   "outputs": [],
   "source": []
  },
  {
   "cell_type": "code",
   "execution_count": 7,
   "id": "e3c37829",
   "metadata": {},
   "outputs": [],
   "source": [
    "# Luck check(5)"
   ]
  },
  {
   "cell_type": "code",
   "execution_count": 38,
   "id": "7d635048",
   "metadata": {},
   "outputs": [],
   "source": [
    "def luck_check(string):\n",
    "        \n",
    "    if len(string) % 2 == 0:\n",
    "        left = [int(x) for x in string[:int(len(string)/2)]]\n",
    "        right = [int(x) for x in string[int(len(string)/2):]]\n",
    "    else:\n",
    "        left = [int(x) for x in string[:int(len(string)/2)]]\n",
    "        right = [int(x) for x in string[int(len(string)/2) + 1:]]\n",
    "        \n",
    "    if sum(left) == sum(right):\n",
    "        result = True\n",
    "    if sum(left) != sum(right):\n",
    "        result = False\n",
    "    return result"
   ]
  },
  {
   "cell_type": "code",
   "execution_count": 39,
   "id": "ebe897b8",
   "metadata": {},
   "outputs": [
    {
     "data": {
      "text/plain": [
       "True"
      ]
     },
     "execution_count": 39,
     "metadata": {},
     "output_type": "execute_result"
    }
   ],
   "source": [
    "\n",
    "string = '80808'\n",
    "luck_check(string)"
   ]
  },
  {
   "cell_type": "code",
   "execution_count": null,
   "id": "5d182471",
   "metadata": {},
   "outputs": [],
   "source": []
  },
  {
   "cell_type": "code",
   "execution_count": null,
   "id": "c963a238",
   "metadata": {},
   "outputs": [],
   "source": [
    "# Binary multiple of 3\n"
   ]
  }
 ],
 "metadata": {
  "kernelspec": {
   "display_name": "Python 3 (ipykernel)",
   "language": "python",
   "name": "python3"
  },
  "language_info": {
   "codemirror_mode": {
    "name": "ipython",
    "version": 3
   },
   "file_extension": ".py",
   "mimetype": "text/x-python",
   "name": "python",
   "nbconvert_exporter": "python",
   "pygments_lexer": "ipython3",
   "version": "3.9.12"
  }
 },
 "nbformat": 4,
 "nbformat_minor": 5
}
